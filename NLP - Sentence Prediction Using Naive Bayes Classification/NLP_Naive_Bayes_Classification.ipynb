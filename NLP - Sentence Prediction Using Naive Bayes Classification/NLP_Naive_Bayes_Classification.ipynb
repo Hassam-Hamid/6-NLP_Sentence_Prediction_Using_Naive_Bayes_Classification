{
  "nbformat": 4,
  "nbformat_minor": 0,
  "metadata": {
    "colab": {
      "provenance": []
    },
    "kernelspec": {
      "name": "python3",
      "display_name": "Python 3"
    },
    "language_info": {
      "name": "python"
    }
  },
  "cells": [
    {
      "cell_type": "markdown",
      "source": [
        "**Step 1:** Preprocess the data and create the vocabulary. We'll represent each sentence as a bag of words and separate data by class."
      ],
      "metadata": {
        "id": "HrTQ1260SGzw"
      }
    },
    {
      "cell_type": "code",
      "execution_count": null,
      "metadata": {
        "id": "L3ewpv33R_uu"
      },
      "outputs": [],
      "source": [
        "# Training data\n",
        "data = [\n",
        "    (\"A great game\", \"Sports\"),\n",
        "    (\"The election was over\", \"Not sports\"),\n",
        "    (\"Very clean match\", \"Sports\"),\n",
        "    (\"A clean but forgettable game\", \"Sports\"),\n",
        "    (\"It was a close election\", \"Not sports\")\n",
        "]\n",
        "\n",
        "# Separate data by class\n",
        "sports_data = [d[0] for d in data if d[1] == \"Sports\"]\n",
        "not_sports_data = [d[0] for d in data if d[1] == \"Not sports\"]\n",
        "\n",
        "# Create vocabulary\n",
        "vocabulary = set()\n",
        "for sentence in data:\n",
        "    vocabulary.update(sentence[0].lower().split())"
      ]
    },
    {
      "cell_type": "markdown",
      "source": [
        "**Step 2:** Calculate the prior probabilities of each class."
      ],
      "metadata": {
        "id": "EhF_92ZYSQ6j"
      }
    },
    {
      "cell_type": "code",
      "source": [
        "# Calculate prior probabilities\n",
        "total_data = len(data)\n",
        "prior_sports = len(sports_data) / total_data\n",
        "prior_not_sports = len(not_sports_data) / total_data"
      ],
      "metadata": {
        "id": "eKXQapdxSUQm"
      },
      "execution_count": null,
      "outputs": []
    },
    {
      "cell_type": "markdown",
      "source": [
        "**Step 3:** Calculate the likelihood probabilities for each word given each class."
      ],
      "metadata": {
        "id": "OleZ5Rd9SY9s"
      }
    },
    {
      "cell_type": "code",
      "source": [
        "# Calculate likelihoods\n",
        "def calculate_likelihood(sentence, class_data):\n",
        "    word_count = len(class_data)\n",
        "    likelihood = 1.0\n",
        "    for word in sentence.lower().split():\n",
        "        word_occurrences = class_data.count(word)\n",
        "        likelihood *= (word_occurrences + 1) / (word_count + len(vocabulary))\n",
        "    return likelihood"
      ],
      "metadata": {
        "id": "dCfSWiQ5Sa9z"
      },
      "execution_count": null,
      "outputs": []
    },
    {
      "cell_type": "markdown",
      "source": [
        "**Step 4:** Use the Naive Bayes formula to calculate the probability for each class given the new sentence."
      ],
      "metadata": {
        "id": "Ww6b9s-tSfQv"
      }
    },
    {
      "cell_type": "code",
      "source": [
        "# Test sentence\n",
        "test_sentence = \"A very close game\"\n",
        "\n",
        "# Calculate likelihoods for both classes\n",
        "likelihood_sports = calculate_likelihood(test_sentence, sports_data) * prior_sports\n",
        "likelihood_not_sports = calculate_likelihood(test_sentence, not_sports_data) * prior_not_sports"
      ],
      "metadata": {
        "id": "WKVz7dUISg4l"
      },
      "execution_count": null,
      "outputs": []
    },
    {
      "cell_type": "markdown",
      "source": [
        "**Step 5:** Classify the new sentence based on the class with the highest posterior probability."
      ],
      "metadata": {
        "id": "_Na6AxRESlZv"
      }
    },
    {
      "cell_type": "code",
      "source": [
        "# Classify\n",
        "if likelihood_sports > likelihood_not_sports:\n",
        "    result = \"Predicted Class is Sports\"\n",
        "else:\n",
        "    result = \"Predicted Class is Not sports\"\n",
        "\n",
        "result"
      ],
      "metadata": {
        "id": "2dsfBIOXSnFt",
        "outputId": "4b94c12e-1945-463e-e66a-f555b53386cf",
        "colab": {
          "base_uri": "https://localhost:8080/",
          "height": 35
        }
      },
      "execution_count": null,
      "outputs": [
        {
          "output_type": "execute_result",
          "data": {
            "text/plain": [
              "'Predicted Class is Sports'"
            ],
            "application/vnd.google.colaboratory.intrinsic+json": {
              "type": "string"
            }
          },
          "metadata": {},
          "execution_count": 5
        }
      ]
    }
  ]
}